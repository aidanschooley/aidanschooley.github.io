{
  "nbformat": 4,
  "nbformat_minor": 0,
  "metadata": {
    "colab": {
      "provenance": []
    },
    "kernelspec": {
      "name": "python3",
      "display_name": "Python 3"
    },
    "language_info": {
      "name": "python"
    }
  },
  "cells": [
    {
      "cell_type": "code",
      "source": [
        "hangman_piece1 = \"|-----------\"\n",
        "hangman_piece2 = \"|          |\"\n",
        "hangman_piece3 = \"|           \"\n",
        "head_piece = \"|         ( )\"\n",
        "left_arm_piece = \"|        \\ |  \"\n",
        "arms_piece = \"|        \\ | /\"\n",
        "left_leg_piece = \"|         /   \"\n",
        "leg_piece = \"|         / \\ \"\n",
        "game_score = 0\n",
        "answer =  input(\"Your Guess: \")"
      ],
      "metadata": {
        "id": "LUf17bcGYjY7"
      },
      "execution_count": null,
      "outputs": []
    },
    {
      "cell_type": "code",
      "source": [
        "if answer == \"h\":\n",
        "  print(\"Your answer is correct!\")\n",
        "elif answer == \"e\":\n",
        "  print(\"Your answer is correct!\")\n",
        "elif answer == \"l\":\n",
        "  print(\"Your answer is correct!\")\n",
        "elif answer == \"l\":\n",
        "  print(\"Your answer is correct!\")\n",
        "elif answer == \"o\":\n",
        "  print(\"Your answer is correct!\")\n",
        "else:\n",
        "  print(\"Your answer is incorrect :(\")\n",
        "  game_score += 1"
      ],
      "metadata": {
        "id": "4oLy-Fw7gRc9"
      },
      "execution_count": null,
      "outputs": []
    },
    {
      "cell_type": "code",
      "source": [
        "if game_score == 0:\n",
        "  print(hangman_piece1)\n",
        "  print(hangman_piece2)\n",
        "  print(hangman_piece3)\n",
        "  print(hangman_piece3)\n",
        "  print(hangman_piece3)\n",
        "  print(hangman_piece3)\n",
        "elif game_score == 1:\n",
        "  print(hangman_piece1)\n",
        "  print(hangman_piece2)\n",
        "  print(head_piece)\n",
        "  print(hangman_piece3)\n",
        "  print(hangman_piece3)\n",
        "  print(hangman_piece3)\n",
        "elif game_score == 2:\n",
        "  print(hangman_piece1)\n",
        "  print(hangman_piece2)\n",
        "  print(head_piece)\n",
        "  print(hangman_piece2)\n",
        "  print(hangman_piece3)\n",
        "  print(hangman_piece3)\n",
        "elif game_score == 3:\n",
        "  print(hangman_piece1)\n",
        "  print(hangman_piece2)\n",
        "  print(head_piece)\n",
        "  print(left_arm_piece)\n",
        "  print(hangman_piece3)\n",
        "  print(hangman_piece3)\n",
        "elif game_score == 4:\n",
        "  print(hangman_piece1)\n",
        "  print(hangman_piece2)\n",
        "  print(head_piece)\n",
        "  print(arms_piece)\n",
        "  print(hangman_piece3)\n",
        "  print(hangman_piece3)\n",
        "elif game_score == 5:\n",
        "  print(hangman_piece1)\n",
        "  print(hangman_piece2)\n",
        "  print(head_piece)\n",
        "  print(arms_piece)\n",
        "  print(left_leg_piece)\n",
        "  print(hangman_piece3)\n",
        "elif game_score == 6:\n",
        "  print(hangman_piece1)\n",
        "  print(hangman_piece2)\n",
        "  print(head_piece)\n",
        "  print(arms_piece)\n",
        "  print(leg_piece)\n",
        "  print(hangman_piece3)\n",
        "else:\n",
        "  print(\"You Died\")\n"
      ],
      "metadata": {
        "colab": {
          "base_uri": "https://localhost:8080/"
        },
        "id": "sTNn30t1dNHi",
        "outputId": "2d58ea25-c356-4244-c337-5a1e4a985bed"
      },
      "execution_count": null,
      "outputs": [
        {
          "output_type": "stream",
          "name": "stdout",
          "text": [
            "|-----------\n",
            "|          |\n",
            "|           \n",
            "|           \n",
            "|           \n",
            "|           \n"
          ]
        }
      ]
    }
  ]
}